{
 "cells": [
  {
   "cell_type": "markdown",
   "metadata": {},
   "source": [
    "Tim Smith\n",
    "\n",
    "2019.09.21\n",
    "\n",
    "# Control run Hovmöller plots \n",
    "\n",
    "## Showing zonal mean -vs- avg seasonal cycle for\n",
    "- Precip\n",
    "- P-E\n",
    "- Surface temperature\n",
    "- ..."
   ]
  },
  {
   "cell_type": "code",
   "execution_count": 12,
   "metadata": {},
   "outputs": [],
   "source": [
    "import os\n",
    "import sys\n",
    "import xarray as xr\n",
    "import matplotlib.pyplot as plt\n",
    "import netCDF4\n",
    "import numpy as np\n",
    "import glob\n",
    "import dask.array as da\n",
    "from copy import deepcopy\n",
    "\n",
    "import cftime # for converting the netcdf time to something nice"
   ]
  },
  {
   "cell_type": "code",
   "execution_count": 13,
   "metadata": {},
   "outputs": [
    {
     "name": "stderr",
     "output_type": "stream",
     "text": [
      "/Users/tim/anaconda3/lib/python3.6/site-packages/xarray/coding/times.py:132: SerializationWarning: Unable to decode time axis into full numpy.datetime64 objects, continuing using dummy cftime.datetime objects instead, reason: dates out of range\n",
      "  enable_cftimeindex)\n",
      "/Users/tim/anaconda3/lib/python3.6/site-packages/xarray/coding/variables.py:66: SerializationWarning: Unable to decode time axis into full numpy.datetime64 objects, continuing using dummy cftime.datetime objects instead, reason: dates out of range\n",
      "  return self.func(self.array[key])\n"
     ]
    }
   ],
   "source": [
    "data_dir = '/Users/tim/work/results/acdc/half_ocean_newbucket_0qflux_control'\n",
    "globname = data_dir + '/*/*.nc'\n",
    "file_list = glob.glob(globname)\n",
    "file_list = sorted(file_list)\n",
    "ds_ctrl = xr.open_mfdataset(file_list,autoclose='true')\n",
    "\n",
    "lat = ds_ctrl['lat'].values[:]\n",
    "lon = ds_ctrl['lon'].values[:]\n",
    "lev = ds_ctrl['pfull'].values[:]"
   ]
  },
  {
   "cell_type": "markdown",
   "metadata": {},
   "source": [
    "### First, remove first 8 years of spinup and convert time units to something nice for xarray"
   ]
  },
  {
   "cell_type": "code",
   "execution_count": 33,
   "metadata": {},
   "outputs": [],
   "source": [
    "with xr.set_options(enable_cftimeindex=True):\n",
    "    ds_ctrl = xr.open_mfdataset(file_list,autoclose='true',decode_times=False)\n",
    "\n",
    "time0 = ds_ctrl['time']\n",
    "# time2 = nc.num2date(ds_ctrl['time'][:], units=ds_ctrl['time'].units,\n",
    "#                             calendar=ds_ctrl['time'].calendar,only_use_cftime_datetimes=True)\n",
    "\n",
    "time2 = cftime.num2date(ds_ctrl['time'][:], units=ds_ctrl['time'].units,\n",
    "                            calendar=ds_ctrl['time'].calendar,only_use_cftime_datetimes=True)\n",
    "\n",
    "ds_ctrl['time'].values = time2\n",
    "\n",
    "# Drop everything before the 9th year\n",
    "ds_ctrl = ds_ctrl.where(ds_ctrl['time'].dt.year.isin(range(9,11)),drop=True)"
   ]
  },
  {
   "cell_type": "markdown",
   "metadata": {},
   "source": [
    "### Now, very easily lets compute the seasonal cycle for all fields"
   ]
  },
  {
   "cell_type": "code",
   "execution_count": 47,
   "metadata": {},
   "outputs": [],
   "source": [
    "ds_clim = ds_ctrl.groupby('time.month').mean('time')"
   ]
  },
  {
   "cell_type": "code",
   "execution_count": 48,
   "metadata": {},
   "outputs": [
    {
     "data": {
      "text/plain": [
       "Text(0.5,1,'Zonal mean precipitation')"
      ]
     },
     "execution_count": 48,
     "metadata": {},
     "output_type": "execute_result"
    },
    {
     "data": {
      "image/png": "[encoded data removed]",
      "text/plain": [
       "<Figure size 432x288 with 2 Axes>"
      ]
     },
     "metadata": {
      "needs_background": "light"
     },
     "output_type": "display_data"
    }
   ],
   "source": [
    "months = ds_clim['month']\n",
    "plt.figure()\n",
    "plt.pcolormesh(months,lat,ds_clim['precipitation'].mean('lon').T,cmap='PuBu')\n",
    "plt.colorbar()\n",
    "plt.title('Zonal mean precipitation')"
   ]
  },
  {
   "cell_type": "code",
   "execution_count": 45,
   "metadata": {},
   "outputs": [
    {
     "name": "stdout",
     "output_type": "stream",
     "text": [
      "Help on function pcolor in module matplotlib.pyplot:\n",
      "\n",
      "pcolor(*args, **kwargs)\n",
      "    Create a pseudocolor plot with a non-regular rectangular grid.\n",
      "    \n",
      "    Call signature::\n",
      "    \n",
      "        pcolor([X, Y,] C, **kwargs)\n",
      "    \n",
      "    *X* and *Y* can be used to specify the corners of the quadrilaterals.\n",
      "    \n",
      "    .. hint::\n",
      "    \n",
      "        ``pcolor()`` can be very slow for large arrays. In most\n",
      "        cases you should use the the similar but much faster\n",
      "        `~.Axes.pcolormesh` instead. See there for a discussion of the\n",
      "        differences.\n",
      "    \n",
      "    Parameters\n",
      "    ----------\n",
      "    C : array_like\n",
      "        A scalar 2-D array. The values will be color-mapped.\n",
      "    \n",
      "    X, Y : array_like, optional\n",
      "        The coordinates of the quadrilateral corners. The quadrilateral\n",
      "        for ``C[i,j]`` has corners at::\n",
      "    \n",
      "            (X[i+1, j], Y[i+1, j])          (X[i+1, j+1], Y[i+1, j+1])\n",
      "                                  +--------+\n",
      "                                  | C[i,j] |\n",
      "                                  +--------+\n",
      "                (X[i, j], Y[i, j])          (X[i, j+1], Y[i, j+1]),\n",
      "    \n",
      "        Note that the column index corresponds to the\n",
      "        x-coordinate, and the row index corresponds to y. For\n",
      "        details, see the :ref:`Notes <axes-pcolor-grid-orientation>`\n",
      "        section below.\n",
      "    \n",
      "        The dimensions of *X* and *Y* should be one greater than those of\n",
      "        *C*. Alternatively, *X*, *Y* and *C* may have equal dimensions, in\n",
      "        which case the last row and column of *C* will be ignored.\n",
      "    \n",
      "        If *X* and/or *Y* are 1-D arrays or column vectors they will be\n",
      "        expanded as needed into the appropriate 2-D arrays, making a\n",
      "        rectangular grid.\n",
      "    \n",
      "    cmap : str or `~matplotlib.colors.Colormap`, optional\n",
      "        A Colormap instance or registered colormap name. The colormap\n",
      "        maps the *C* values to colors. Defaults to :rc:`image.cmap`.\n",
      "    \n",
      "    norm : `~matplotlib.colors.Normalize`, optional\n",
      "        The Normalize instance scales the data values to the canonical\n",
      "        colormap range [0, 1] for mapping to colors. By default, the data\n",
      "        range is mapped to the colorbar range using linear scaling.\n",
      "    \n",
      "    vmin, vmax : scalar, optional, default: None\n",
      "        The colorbar range. If *None*, suitable min/max values are\n",
      "        automatically chosen by the `~.Normalize` instance (defaults to\n",
      "        the respective min/max values of *C* in case of the default linear\n",
      "        scaling).\n",
      "    \n",
      "    edgecolors : {'none', None, 'face', color, color sequence}, optional\n",
      "        The color of the edges. Defaults to 'none'. Possible values:\n",
      "    \n",
      "        - 'none' or '': No edge.\n",
      "        - *None*: :rc:`patch.edgecolor` will be used. Note that currently\n",
      "          :rc:`patch.force_edgecolor` has to be True for this to work.\n",
      "        - 'face': Use the adjacent face color.\n",
      "        - An mpl color or sequence of colors will set the edge color.\n",
      "    \n",
      "        The singular form *edgecolor* works as an alias.\n",
      "    \n",
      "    alpha : scalar, optional, default: None\n",
      "        The alpha blending value of the face color, between 0 (transparent)\n",
      "        and 1 (opaque). Note: The edgecolor is currently not affected by\n",
      "        this.\n",
      "    \n",
      "    snap : bool, optional, default: False\n",
      "        Whether to snap the mesh to pixel boundaries.\n",
      "    \n",
      "    Returns\n",
      "    -------\n",
      "    collection : `matplotlib.collections.Collection`\n",
      "    \n",
      "    Other Parameters\n",
      "    ----------------\n",
      "    antialiaseds : bool, optional, default: False\n",
      "        The default *antialiaseds* is False if the default\n",
      "        *edgecolors*\\ =\"none\" is used.  This eliminates artificial lines\n",
      "        at patch boundaries, and works regardless of the value of alpha.\n",
      "        If *edgecolors* is not \"none\", then the default *antialiaseds*\n",
      "        is taken from :rc:`patch.antialiased`, which defaults to True.\n",
      "        Stroking the edges may be preferred if *alpha* is 1, but will\n",
      "        cause artifacts otherwise.\n",
      "    \n",
      "    **kwargs :\n",
      "        Additionally, the following arguments are allowed. They are passed\n",
      "        along to the `~matplotlib.collections.PolyCollection` constructor:\n",
      "    \n",
      "      agg_filter: a filter function, which takes a (m, n, 3) float array and a dpi value, and returns a (m, n, 3) array \n",
      "      alpha: float or None \n",
      "      animated: bool \n",
      "      antialiased or antialiaseds: Boolean or sequence of booleans \n",
      "      array: ndarray\n",
      "      capstyle: unknown\n",
      "      clim: a length 2 sequence of floats; may be overridden in methods that have ``vmin`` and ``vmax`` kwargs. \n",
      "      clip_box: a `.Bbox` instance \n",
      "      clip_on: bool \n",
      "      clip_path: [(`~matplotlib.path.Path`, `.Transform`) | `.Patch` | None] \n",
      "      cmap: a colormap or registered colormap name \n",
      "      color: matplotlib color arg or sequence of rgba tuples\n",
      "      contains: a callable function \n",
      "      edgecolor or edgecolors: matplotlib color spec or sequence of specs \n",
      "      facecolor or facecolors: matplotlib color spec or sequence of specs \n",
      "      figure: a `.Figure` instance \n",
      "      gid: an id string \n",
      "      hatch: [ '/' | '\\\\' | '|' | '-' | '+' | 'x' | 'o' | 'O' | '.' | '*' ] \n",
      "      joinstyle: unknown\n",
      "      label: object \n",
      "      linestyle or dashes or linestyles: ['solid' | 'dashed', 'dashdot', 'dotted' | (offset, on-off-dash-seq) | ``'-'`` | ``'--'`` | ``'-.'`` | ``':'`` | ``'None'`` | ``' '`` | ``''``]\n",
      "      linewidth or linewidths or lw: float or sequence of floats \n",
      "      norm: `.Normalize`\n",
      "      offset_position: [ 'screen' | 'data' ] \n",
      "      offsets: float or sequence of floats \n",
      "      path_effects: `.AbstractPathEffect` \n",
      "      picker: [None | bool | float | callable] \n",
      "      pickradius: float distance in points\n",
      "      rasterized: bool or None \n",
      "      sketch_params: (scale: float, length: float, randomness: float) \n",
      "      snap: bool or None \n",
      "      transform: `.Transform` \n",
      "      url: a url string \n",
      "      urls: List[str] or None \n",
      "      visible: bool \n",
      "      zorder: float \n",
      "    \n",
      "    See Also\n",
      "    --------\n",
      "    pcolormesh : for an explanation of the differences between\n",
      "        pcolor and pcolormesh.\n",
      "    imshow : If *X* and *Y* are each equidistant, `~.Axes.imshow` can be a\n",
      "        faster alternative.\n",
      "    \n",
      "    Notes\n",
      "    -----\n",
      "    \n",
      "    **Masked arrays**\n",
      "    \n",
      "    *X*, *Y* and *C* may be masked arrays. If either ``C[i, j]``, or one\n",
      "    of the vertices surrounding ``C[i,j]`` (*X* or *Y* at\n",
      "    ``[i, j], [i+1, j], [i, j+1], [i+1, j+1]``) is masked, nothing is\n",
      "    plotted.\n",
      "    \n",
      "    .. _axes-pcolor-grid-orientation:\n",
      "    \n",
      "    **Grid orientation**\n",
      "    \n",
      "    The grid orientation follows the standard matrix convention: An array\n",
      "    *C* with shape (nrows, ncolumns) is plotted with the column number as\n",
      "    *X* and the row number as *Y*.\n",
      "    \n",
      "    **Handling of pcolor() end-cases**\n",
      "    \n",
      "    ``pcolor()`` displays all columns of *C* if *X* and *Y* are not\n",
      "    specified, or if *X* and *Y* have one more column than *C*.\n",
      "    If *X* and *Y* have the same number of columns as *C* then the last\n",
      "    column of *C* is dropped. Similarly for the rows.\n",
      "    \n",
      "    Note: This behavior is different from MATLAB's ``pcolor()``, which\n",
      "    always discards the last row and column of *C*.\n",
      "    \n",
      "    .. note::\n",
      "        In addition to the above described arguments, this function can take a\n",
      "        **data** keyword argument. If such a **data** argument is given, the\n",
      "        following arguments are replaced by **data[<arg>]**:\n",
      "    \n",
      "        * All positional and all keyword arguments.\n",
      "\n"
     ]
    }
   ],
   "source": []
  },
  {
   "cell_type": "code",
   "execution_count": null,
   "metadata": {},
   "outputs": [],
   "source": []
  }
 ],
 "metadata": {
  "kernelspec": {
   "display_name": "Python 3",
   "language": "python",
   "name": "python3"
  },
  "language_info": {
   "codemirror_mode": {
    "name": "ipython",
    "version": 3
   },
   "file_extension": ".py",
   "mimetype": "text/x-python",
   "name": "python",
   "nbconvert_exporter": "python",
   "pygments_lexer": "ipython3",
   "version": "3.6.6"
  }
 },
 "nbformat": 4,
 "nbformat_minor": 2
}
